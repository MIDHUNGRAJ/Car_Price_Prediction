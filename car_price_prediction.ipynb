{
 "cells": [
  {
   "cell_type": "code",
   "execution_count": null,
   "id": "eaa0a3b3",
   "metadata": {},
   "outputs": [],
   "source": [
    "import pandas as pd\n",
    "from pathlib import Path\n",
    "import matplotlib.pyplot as plt\n",
    "import numpy as np"
   ]
  },
  {
   "cell_type": "code",
   "execution_count": null,
   "id": "74b1fae7",
   "metadata": {},
   "outputs": [],
   "source": [
    "import kagglehub\n",
    "\n",
    "# Download latest version\n",
    "path = kagglehub.dataset_download(\"hellbuoy/car-price-prediction\")\n",
    "\n",
    "print(\"Path to dataset files:\", path)"
   ]
  },
  {
   "cell_type": "code",
   "execution_count": null,
   "id": "cfa5acd4",
   "metadata": {},
   "outputs": [],
   "source": [
    "from pathlib import Path\n",
    "import kagglehub\n",
    "\n",
    "csv_file = Path(path)/'CarPrice_Assignment.csv'\n",
    "\n",
    "df = pd.read_csv(csv_file)"
   ]
  },
  {
   "cell_type": "code",
   "execution_count": null,
   "id": "0a104914",
   "metadata": {},
   "outputs": [],
   "source": [
    "df.head()"
   ]
  },
  {
   "cell_type": "code",
   "execution_count": null,
   "id": "639044e8",
   "metadata": {},
   "outputs": [],
   "source": [
    "df.info()"
   ]
  },
  {
   "cell_type": "code",
   "execution_count": null,
   "id": "20c19d11",
   "metadata": {},
   "outputs": [],
   "source": [
    "df.select_dtypes(include='object').isnull().sum()"
   ]
  },
  {
   "cell_type": "code",
   "execution_count": null,
   "id": "4e8272a7",
   "metadata": {},
   "outputs": [],
   "source": [
    "df.select_dtypes(include='object').value_counts()"
   ]
  },
  {
   "cell_type": "code",
   "execution_count": null,
   "id": "3989ab2a",
   "metadata": {},
   "outputs": [],
   "source": [
    "cars = df"
   ]
  },
  {
   "cell_type": "code",
   "execution_count": null,
   "id": "cc1c1714",
   "metadata": {},
   "outputs": [],
   "source": [
    "cars.describe()"
   ]
  },
  {
   "cell_type": "code",
   "execution_count": null,
   "id": "a04b56b2",
   "metadata": {},
   "outputs": [],
   "source": [
    "IMAGE_PATH = Path() / 'images' / 'car_price_prediction'\n",
    "IMAGE_PATH.mkdir(parents=True, exist_ok=True)\n",
    "\n",
    "def fig_save(fig, tight_layout=True, img_extension='png', resolution=300):\n",
    "    img_path = IMAGE_PATH / f'{fig}.{img_extension}'\n",
    "    if tight_layout:\n",
    "        plt.tight_layout()\n",
    "    plt.savefig(img_path, format=img_extension, dpi=resolution)"
   ]
  },
  {
   "cell_type": "code",
   "execution_count": null,
   "id": "a2242ea5",
   "metadata": {},
   "outputs": [],
   "source": [
    "plt.rc('font', size=10)\n",
    "plt.rc('axes', labelsize=10, titlesize=10)\n",
    "plt.rc('legend', fontsize=14)\n",
    "plt.rc('xtick', labelsize=10)\n",
    "plt.rc('ytick', labelsize=10)\n",
    "\n",
    "cars.hist(bins=50, figsize=(12, 8))\n",
    "fig_save('attribute_histogram_plots')"
   ]
  },
  {
   "cell_type": "code",
   "execution_count": null,
   "id": "d7f76a85",
   "metadata": {},
   "outputs": [],
   "source": [
    "np.random.permutation(10)"
   ]
  },
  {
   "cell_type": "markdown",
   "id": "521573dd",
   "metadata": {},
   "source": [
    "# Create Test Set"
   ]
  },
  {
   "cell_type": "code",
   "execution_count": null,
   "id": "bec66783",
   "metadata": {},
   "outputs": [],
   "source": [
    "def split_train_test(data, test_size):\n",
    "    shuffled_data = np.random.permutation(len(data))\n",
    "    test_data_size = int(len(data) * test_size)\n",
    "    train_data_idx = shuffled_data[:-test_data_size]\n",
    "    test_data_idx = shuffled_data[-test_data_size:]\n",
    "    return data.iloc[train_data_idx], data.iloc[test_data_idx]"
   ]
  },
  {
   "cell_type": "code",
   "execution_count": null,
   "id": "13442270",
   "metadata": {},
   "outputs": [],
   "source": [
    "train_data, test_data = split_train_test(cars, 0.2)"
   ]
  },
  {
   "cell_type": "code",
   "execution_count": null,
   "id": "838a9bbc",
   "metadata": {},
   "outputs": [],
   "source": [
    "train_data.shape, test_data.shape"
   ]
  },
  {
   "cell_type": "code",
   "execution_count": null,
   "id": "ca2a901f",
   "metadata": {},
   "outputs": [],
   "source": [
    "len(train_data), len(test_data)"
   ]
  },
  {
   "cell_type": "code",
   "execution_count": null,
   "id": "24887e29",
   "metadata": {},
   "outputs": [],
   "source": [
    "cars"
   ]
  },
  {
   "cell_type": "code",
   "execution_count": null,
   "id": "7f16cd97",
   "metadata": {},
   "outputs": [],
   "source": [
    "cars.horsepower.min(), cars.horsepower.max()"
   ]
  },
  {
   "cell_type": "code",
   "execution_count": null,
   "id": "4a056b73",
   "metadata": {},
   "outputs": [],
   "source": [
    "cars[\"horsepower_cat\"] = pd.cut(cars.horsepower,\n",
    "                                bins=[10, 120, 160, 200, np.inf],\n",
    "                                labels=[1, 2, 3, 4])    "
   ]
  },
  {
   "cell_type": "code",
   "execution_count": null,
   "id": "528972d8",
   "metadata": {},
   "outputs": [],
   "source": [
    "cars.horsepower_cat.value_counts().sort_index().plot.bar(rot=0, grid=True)\n",
    "plt.xlabel(\"Horsepower Category\")\n",
    "plt.ylabel(\"Number of Cars\")\n",
    "fig_save(\"cars_horsepower_cat_bar_plot\")\n",
    "plt.show()"
   ]
  },
  {
   "cell_type": "code",
   "execution_count": null,
   "id": "5e554407",
   "metadata": {},
   "outputs": [],
   "source": [
    "from sklearn.model_selection import StratifiedShuffleSplit\n",
    "\n",
    "splitter = StratifiedShuffleSplit(n_splits=10, test_size=0.2, random_state=42)\n",
    "strat_splits = []\n",
    "for train_split, test_split in splitter.split(cars, cars.horsepower_cat):\n",
    "    strat_train_split = cars.iloc[train_split]\n",
    "    strat_test_split = cars.iloc[test_split]\n",
    "    strat_splits.append([strat_train_split, strat_test_split])"
   ]
  },
  {
   "cell_type": "code",
   "execution_count": null,
   "id": "9156f2f8",
   "metadata": {},
   "outputs": [],
   "source": [
    "strat_train_set, strat_test_set = strat_splits[0]"
   ]
  },
  {
   "cell_type": "code",
   "execution_count": null,
   "id": "421192be",
   "metadata": {},
   "outputs": [],
   "source": [
    "strat_train_set.shape, strat_test_set.shape"
   ]
  },
  {
   "cell_type": "code",
   "execution_count": null,
   "id": "a381b504",
   "metadata": {},
   "outputs": [],
   "source": [
    "from sklearn.model_selection import train_test_split\n",
    "\n",
    "strat_train_set, strat_test_set = train_test_split(\n",
    "    cars, stratify=cars.horsepower_cat, test_size=0.2, random_state=42\n",
    ")"
   ]
  },
  {
   "cell_type": "code",
   "execution_count": null,
   "id": "2cd2c906",
   "metadata": {},
   "outputs": [],
   "source": [
    "# strat_test_set.horsepower_cat.value_counts()"
   ]
  },
  {
   "cell_type": "code",
   "execution_count": null,
   "id": "8a7c2de9",
   "metadata": {},
   "outputs": [],
   "source": [
    "strat_test_set.horsepower_cat.value_counts() / len(strat_test_set)"
   ]
  },
  {
   "cell_type": "code",
   "execution_count": null,
   "id": "2dd06ce5",
   "metadata": {},
   "outputs": [],
   "source": [
    "def horsepower_cat_proportions(data):\n",
    "    return data.horsepower_cat.value_counts() / len(data)\n",
    "\n",
    "\n",
    "train_set, test_set = train_test_split(cars, test_size=0.2, random_state=42)\n",
    "\n",
    "compare_props = pd.DataFrame(\n",
    "    {\n",
    "        \"Overall %\": horsepower_cat_proportions(cars),\n",
    "        \"Stratified %\": horsepower_cat_proportions(strat_test_set),\n",
    "        \"Random %\": horsepower_cat_proportions(test_set),\n",
    "    }\n",
    ")\n",
    "\n",
    "compare_props[\"Strat. Error %\"] = (\n",
    "    compare_props[\"Stratified %\"] / compare_props[\"Overall %\"] - 1\n",
    ")\n",
    "compare_props[\"Rand. Eroor %\"] = (\n",
    "    compare_props[\"Random %\"] / compare_props[\"Overall %\"]- 1\n",
    ")\n",
    "\n",
    "(compare_props * 100).round(2)"
   ]
  },
  {
   "cell_type": "code",
   "execution_count": null,
   "id": "a1965599",
   "metadata": {},
   "outputs": [],
   "source": [
    "for set_ in (strat_train_set, strat_test_set):\n",
    "    set_.drop(\"horsepower_cat\", axis=1, inplace=True)"
   ]
  },
  {
   "cell_type": "code",
   "execution_count": null,
   "id": "e0f4f0f7",
   "metadata": {},
   "outputs": [],
   "source": [
    "cars = strat_train_set.copy()"
   ]
  },
  {
   "cell_type": "code",
   "execution_count": null,
   "id": "6609bf59",
   "metadata": {},
   "outputs": [],
   "source": [
    "cars"
   ]
  },
  {
   "cell_type": "code",
   "execution_count": null,
   "id": "f630d3d9",
   "metadata": {},
   "outputs": [],
   "source": [
    "cars.plot(kind=\"scatter\", x=\"highwaympg\", y=\"price\")\n",
    "fig_save('highwaympg-price')"
   ]
  },
  {
   "cell_type": "markdown",
   "id": "28fe9f65",
   "metadata": {},
   "source": [
    "## Looking for Correlations"
   ]
  },
  {
   "cell_type": "code",
   "execution_count": null,
   "id": "172a8ec8",
   "metadata": {},
   "outputs": [],
   "source": [
    "corr_matrix = cars.corr(numeric_only=True)"
   ]
  },
  {
   "cell_type": "code",
   "execution_count": null,
   "id": "6207bcd3",
   "metadata": {},
   "outputs": [],
   "source": [
    "corr_matrix['price'].sort_values(ascending=False)"
   ]
  },
  {
   "cell_type": "code",
   "execution_count": null,
   "id": "3ff4470b",
   "metadata": {},
   "outputs": [],
   "source": [
    "from pandas.plotting import scatter_matrix\n",
    "\n",
    "attributes = [\n",
    "    \"price\",\n",
    "    \"enginesize\",\n",
    "    \"curbweight\",\n",
    "    \"horsepower\",\n",
    "    \"carwidth\",\n",
    "    \"carlength\",\n",
    "    \"boreratio\",\n",
    "    \"wheelbase\",\n",
    "    \"carheight\",\n",
    "]\n",
    "\n",
    "scatter_matrix(cars[attributes], figsize=(12, 8))\n",
    "plt.show()"
   ]
  },
  {
   "cell_type": "code",
   "execution_count": null,
   "id": "7961d5d3",
   "metadata": {},
   "outputs": [],
   "source": [
    "cars.plot(kind=\"scatter\", x=\"enginesize\", y=\"price\", \n",
    "          alpha=0.3, grid=True)\n",
    "fig_save(\"engine_size_vs_price_scatterplot\")\n",
    "plt.show()"
   ]
  },
  {
   "cell_type": "code",
   "execution_count": null,
   "id": "ca628245",
   "metadata": {},
   "outputs": [],
   "source": [
    "cars.select_dtypes(include=['number'])"
   ]
  },
  {
   "cell_type": "code",
   "execution_count": null,
   "id": "9c0de60b",
   "metadata": {},
   "outputs": [],
   "source": [
    "cars.dtypes"
   ]
  },
  {
   "cell_type": "markdown",
   "id": "f0f4dc43",
   "metadata": {},
   "source": [
    "## Experimenting with Attribute Combinations"
   ]
  },
  {
   "cell_type": "code",
   "execution_count": null,
   "id": "a2bc69ec",
   "metadata": {},
   "outputs": [],
   "source": [
    "cars[\"weight_per_engine\"] = cars[\"curbweight\"] / cars[\"enginesize\"]\n",
    "cars[\"enginesize_liters\"] = cars[\"enginesize\"] / 1000\n",
    "cars[\"car_volume\"] = cars[\"carlength\"] * cars[\"carwidth\"] * cars[\"carheight\"]\n",
    "cars[\"density\"] = cars[\"curbweight\"] / cars[\"car_volume\"]\n",
    "cars[\"height_to_width\"] = cars[\"carheight\"] / cars[\"carwidth\"]"
   ]
  },
  {
   "cell_type": "code",
   "execution_count": null,
   "id": "b2ef6df3",
   "metadata": {},
   "outputs": [],
   "source": [
    "import seaborn as sns\n",
    "\n",
    "features_to_plot = [\n",
    "    \"price\",\n",
    "    \"enginesize\", \"curbweight\", \"horsepower\", \"carwidth\",\n",
    "    \"carlength\", \"boreratio\", \"wheelbase\", \"carheight\",\n",
    "    \"weight_per_engine\", \"density\", \"height_to_width\"\n",
    "]\n",
    "\n",
    "# 3. Plot pairplot\n",
    "sns.pairplot(cars[features_to_plot])\n",
    "plt.tight_layout()\n",
    "plt.show()"
   ]
  },
  {
   "cell_type": "code",
   "execution_count": null,
   "id": "63264796",
   "metadata": {},
   "outputs": [],
   "source": [
    "corr_matrix = cars.corr(numeric_only=True)\n",
    "corr_matrix[\"price\"].sort_values(ascending=False)"
   ]
  },
  {
   "cell_type": "code",
   "execution_count": null,
   "id": "2cbbeac6",
   "metadata": {},
   "outputs": [],
   "source": [
    "cars = cars.drop(columns=[\"car_ID\", \"CarName\"])\n",
    "cars"
   ]
  },
  {
   "cell_type": "code",
   "execution_count": null,
   "id": "6b8e04ab",
   "metadata": {},
   "outputs": [],
   "source": [
    "cars = strat_train_set.drop(\"price\", axis=1)\n",
    "cars_labels = strat_train_set[\"price\"].copy()"
   ]
  },
  {
   "cell_type": "code",
   "execution_count": null,
   "id": "23413dd9",
   "metadata": {},
   "outputs": [],
   "source": [
    "cars.loc[cars.sample(5).index, 'symboling'] = np.nan"
   ]
  },
  {
   "cell_type": "code",
   "execution_count": null,
   "id": "a1cada9b",
   "metadata": {},
   "outputs": [],
   "source": [
    "null_rows_idx = cars.isnull().any(axis=1)\n",
    "cars.loc[null_rows_idx].head()"
   ]
  },
  {
   "cell_type": "code",
   "execution_count": null,
   "id": "8bcd2dbe",
   "metadata": {},
   "outputs": [],
   "source": [
    "from sklearn.impute import SimpleImputer\n",
    "\n",
    "impute = SimpleImputer(strategy=\"median\")"
   ]
  },
  {
   "cell_type": "code",
   "execution_count": null,
   "id": "3e6b62e3",
   "metadata": {},
   "outputs": [],
   "source": [
    "cars_num = cars.select_dtypes(include=[np.number])"
   ]
  },
  {
   "cell_type": "code",
   "execution_count": null,
   "id": "6c36122d",
   "metadata": {},
   "outputs": [],
   "source": [
    "impute.fit(cars_num)"
   ]
  },
  {
   "cell_type": "code",
   "execution_count": null,
   "id": "48ea824d",
   "metadata": {},
   "outputs": [],
   "source": [
    "impute.statistics_"
   ]
  },
  {
   "cell_type": "code",
   "execution_count": null,
   "id": "bdca7581",
   "metadata": {},
   "outputs": [],
   "source": [
    "cars_num.median().values"
   ]
  },
  {
   "cell_type": "code",
   "execution_count": null,
   "id": "6d63e50e",
   "metadata": {},
   "outputs": [],
   "source": [
    "X = impute.transform(cars_num)"
   ]
  },
  {
   "cell_type": "code",
   "execution_count": null,
   "id": "1a64bf13",
   "metadata": {},
   "outputs": [],
   "source": [
    "impute.feature_names_in_"
   ]
  },
  {
   "cell_type": "code",
   "execution_count": null,
   "id": "2a55aefd",
   "metadata": {},
   "outputs": [],
   "source": [
    "cars_tr = pd.DataFrame(X, columns=cars_num.columns,\n",
    "                       index=cars_num.index)"
   ]
  },
  {
   "cell_type": "code",
   "execution_count": null,
   "id": "3ad09a8d",
   "metadata": {},
   "outputs": [],
   "source": [
    "cars_tr.loc[null_rows_idx].head()"
   ]
  },
  {
   "cell_type": "code",
   "execution_count": null,
   "id": "85b574f7",
   "metadata": {},
   "outputs": [],
   "source": [
    "impute.strategy"
   ]
  },
  {
   "cell_type": "markdown",
   "id": "b57bc9da",
   "metadata": {},
   "source": [
    "### Checking Outliers"
   ]
  },
  {
   "cell_type": "code",
   "execution_count": null,
   "id": "8764f429",
   "metadata": {},
   "outputs": [],
   "source": [
    "from sklearn.ensemble import IsolationForest\n",
    "\n",
    "isolation_forest = IsolationForest(random_state=42)\n",
    "outlier_pred = isolation_forest.fit_predict(X)"
   ]
  },
  {
   "cell_type": "code",
   "execution_count": null,
   "id": "1983761d",
   "metadata": {},
   "outputs": [],
   "source": [
    "# outlier_pred"
   ]
  },
  {
   "cell_type": "code",
   "execution_count": null,
   "id": "cbccdeac",
   "metadata": {},
   "outputs": [],
   "source": [
    "cars = cars.iloc[outlier_pred == 1]\n",
    "cars_labels = cars_labels.iloc[outlier_pred == 1]"
   ]
  },
  {
   "cell_type": "code",
   "execution_count": null,
   "id": "a19a90d2",
   "metadata": {},
   "outputs": [],
   "source": [
    "cars"
   ]
  },
  {
   "cell_type": "code",
   "execution_count": null,
   "id": "5621fb63",
   "metadata": {},
   "outputs": [],
   "source": [
    "cars.iloc[9]"
   ]
  },
  {
   "cell_type": "markdown",
   "id": "50c91e43",
   "metadata": {},
   "source": [
    "### Handling Text and Categorical Attributes"
   ]
  },
  {
   "cell_type": "code",
   "execution_count": null,
   "id": "be74675d",
   "metadata": {},
   "outputs": [],
   "source": [
    "cars_cat = cars.select_dtypes(include='object')"
   ]
  },
  {
   "cell_type": "code",
   "execution_count": null,
   "id": "1f86b6c3",
   "metadata": {},
   "outputs": [],
   "source": [
    "cars_cat"
   ]
  },
  {
   "cell_type": "code",
   "execution_count": null,
   "id": "d32548d9",
   "metadata": {},
   "outputs": [],
   "source": [
    "cars_cat.head(8)"
   ]
  },
  {
   "cell_type": "code",
   "execution_count": null,
   "id": "325212c3",
   "metadata": {},
   "outputs": [],
   "source": [
    "cars_cat.fueltype.value_counts()"
   ]
  },
  {
   "cell_type": "code",
   "execution_count": null,
   "id": "2f349092",
   "metadata": {},
   "outputs": [],
   "source": [
    "cars_cat.CarName = cars_cat.CarName.str.split(\" \").str[0]"
   ]
  },
  {
   "cell_type": "code",
   "execution_count": null,
   "id": "de0ff4d2",
   "metadata": {},
   "outputs": [],
   "source": [
    "cars_cat.CarName.value_counts()"
   ]
  },
  {
   "cell_type": "code",
   "execution_count": null,
   "id": "6205fe37",
   "metadata": {},
   "outputs": [],
   "source": [
    "cars_cat.CarName = cars_cat.CarName.replace({\n",
    "    'vw': 'volkswagen',\n",
    "    'vokswagen': 'volkswagen',\n",
    "    'maxda': 'mazda'\n",
    "})"
   ]
  },
  {
   "cell_type": "code",
   "execution_count": null,
   "id": "997e54a7",
   "metadata": {},
   "outputs": [],
   "source": [
    "cars_cat.CarName.value_counts()"
   ]
  },
  {
   "cell_type": "code",
   "execution_count": null,
   "id": "3580a83b",
   "metadata": {},
   "outputs": [],
   "source": [
    "from sklearn.preprocessing import OrdinalEncoder\n",
    "\n",
    "ordinal_encoder = OrdinalEncoder()\n",
    "cars_cat_encoded = ordinal_encoder.fit_transform(cars_cat)"
   ]
  },
  {
   "cell_type": "code",
   "execution_count": null,
   "id": "1d0d26c2",
   "metadata": {},
   "outputs": [],
   "source": [
    "cars_cat_encoded"
   ]
  },
  {
   "cell_type": "code",
   "execution_count": null,
   "id": "586d7c58",
   "metadata": {},
   "outputs": [],
   "source": [
    "cars_ct_en = pd.DataFrame(cars_cat_encoded, columns=cars_cat.columns, index=cars_cat.index)"
   ]
  },
  {
   "cell_type": "code",
   "execution_count": null,
   "id": "07b8eeba",
   "metadata": {},
   "outputs": [],
   "source": [
    "cars_ct_en"
   ]
  },
  {
   "cell_type": "code",
   "execution_count": null,
   "id": "34afc41d",
   "metadata": {},
   "outputs": [],
   "source": [
    "ordinal_encoder.categories_"
   ]
  },
  {
   "cell_type": "code",
   "execution_count": null,
   "id": "39e34fa4",
   "metadata": {},
   "outputs": [],
   "source": [
    "from sklearn.preprocessing import OneHotEncoder\n",
    "\n",
    "onehot_encode = OneHotEncoder()\n",
    "cars_cat_1hot = onehot_encode.fit_transform(cars_cat)"
   ]
  },
  {
   "cell_type": "code",
   "execution_count": null,
   "id": "3fa1c4b0",
   "metadata": {},
   "outputs": [],
   "source": [
    "cars_cat_1hot"
   ]
  },
  {
   "cell_type": "code",
   "execution_count": null,
   "id": "e3fab0a3",
   "metadata": {},
   "outputs": [],
   "source": [
    "cars_cat_1hot.toarray()"
   ]
  },
  {
   "cell_type": "code",
   "execution_count": null,
   "id": "d6fa96ff",
   "metadata": {},
   "outputs": [],
   "source": [
    "onehot_encode = OneHotEncoder(sparse_output=False)\n",
    "cars_cat_1hot = onehot_encode.fit_transform(cars_cat)\n",
    "cars_cat_1hot"
   ]
  },
  {
   "cell_type": "code",
   "execution_count": null,
   "id": "caab7fcf",
   "metadata": {},
   "outputs": [],
   "source": [
    "onehot_encode.categories_"
   ]
  },
  {
   "cell_type": "code",
   "execution_count": null,
   "id": "62f47bfc",
   "metadata": {},
   "outputs": [],
   "source": [
    "onehot_encode.feature_names_in_"
   ]
  },
  {
   "cell_type": "code",
   "execution_count": null,
   "id": "90942d56",
   "metadata": {},
   "outputs": [],
   "source": [
    "onehot_encode.get_feature_names_out()"
   ]
  },
  {
   "cell_type": "markdown",
   "id": "f53e2989",
   "metadata": {},
   "source": [
    "### Feature Scaling"
   ]
  },
  {
   "cell_type": "code",
   "execution_count": null,
   "id": "4ebf9620",
   "metadata": {},
   "outputs": [],
   "source": [
    "cars_num"
   ]
  },
  {
   "cell_type": "code",
   "execution_count": null,
   "id": "ece52f3d",
   "metadata": {},
   "outputs": [],
   "source": [
    "from sklearn.preprocessing import MinMaxScaler\n",
    "\n",
    "min_max_scalar = MinMaxScaler(feature_range=(-1, 1))\n",
    "cars_num_min_max_scaled = min_max_scalar.fit_transform(cars_num)"
   ]
  },
  {
   "cell_type": "code",
   "execution_count": null,
   "id": "8bf8392e",
   "metadata": {},
   "outputs": [],
   "source": [
    "cars_num.isnull().sum()"
   ]
  },
  {
   "cell_type": "code",
   "execution_count": null,
   "id": "b883d651",
   "metadata": {},
   "outputs": [],
   "source": [
    "from sklearn.preprocessing import StandardScaler\n",
    "\n",
    "std_scaler = StandardScaler()\n",
    "cars_num_std_scaler = std_scaler.fit_transform(cars_num)"
   ]
  },
  {
   "cell_type": "code",
   "execution_count": null,
   "id": "0cbf7dc4",
   "metadata": {},
   "outputs": [],
   "source": [
    "# extra code – this cell generates Figure 2–17\n",
    "fig, axs = plt.subplots(1, 2, figsize=(8, 3), sharey=True)\n",
    "cars[\"enginesize\"].hist(ax=axs[0], bins=15)\n",
    "cars[\"enginesize\"].apply(np.log).hist(ax=axs[1], bins=15)\n",
    "axs[0].set_xlabel(\"Population\")\n",
    "axs[1].set_xlabel(\"Log of population\")\n",
    "axs[0].set_ylabel(\"Number of cars\")\n",
    "fig_save(\"long_tail_plot\")\n",
    "plt.show()"
   ]
  },
  {
   "cell_type": "code",
   "execution_count": null,
   "id": "5dbe67d0",
   "metadata": {},
   "outputs": [],
   "source": [
    "from sklearn.metrics.pairwise import rbf_kernel\n",
    "\n",
    "engine_sim_90 = rbf_kernel(cars[[\"enginesize\"]], [[100]], gamma=0.1)"
   ]
  },
  {
   "cell_type": "code",
   "execution_count": null,
   "id": "c401737b",
   "metadata": {},
   "outputs": [],
   "source": [
    "sizes = np.linspace(cars[\"enginesize\"].min(),\n",
    "                   cars[\"enginesize\"].max(),\n",
    "                   500).reshape(-1, 1)\n",
    "gamma1 = 0.01\n",
    "gamma2 = 0.003\n",
    "rbf1 = rbf_kernel(sizes, [[90]], gamma=gamma1)\n",
    "rbf2 = rbf_kernel(sizes, [[90]], gamma=gamma2)\n",
    "\n",
    "fig, ax1 = plt.subplots()\n",
    "\n",
    "ax1.set_xlabel(\"Cars Engine Size\")\n",
    "ax1.set_ylabel(\"Number of cars\")\n",
    "ax1.hist(cars[\"enginesize\"], bins=50)\n",
    "\n",
    "ax2 = ax1.twinx()  # create a twin axis that shares the same x-axis\n",
    "color = \"blue\"\n",
    "ax2.plot(sizes, rbf1, color=color, label=\"gamma = 0.01\")\n",
    "ax2.plot(sizes, rbf2, color=color, label=\"gamma = 0.003\", linestyle=\"--\")\n",
    "ax2.tick_params(axis='y', labelcolor=color)\n",
    "ax2.set_ylabel(\"Size similarity\", color=color)\n",
    "\n",
    "plt.legend(loc=\"upper left\")\n",
    "fig_save(\"age_similarity_plot\")\n",
    "plt.show()"
   ]
  },
  {
   "cell_type": "code",
   "execution_count": null,
   "id": "bc1285ca",
   "metadata": {},
   "outputs": [],
   "source": [
    "from sklearn.linear_model import LinearRegression\n",
    "\n",
    "target_scaler = StandardScaler()\n",
    "scaled_labels = target_scaler.fit_transform(cars_labels.to_frame())\n",
    "\n",
    "model = LinearRegression()\n",
    "model.fit(cars[[\"enginesize\"]], scaled_labels)\n",
    "some_new_data = cars[[\"enginesize\"]].iloc[:5]  # pretend this is new data\n",
    "\n",
    "scaled_predictions = model.predict(some_new_data)\n",
    "predictions = target_scaler.inverse_transform(scaled_predictions)"
   ]
  },
  {
   "cell_type": "code",
   "execution_count": null,
   "id": "9dfa946c",
   "metadata": {},
   "outputs": [],
   "source": [
    "predictions"
   ]
  },
  {
   "cell_type": "code",
   "execution_count": null,
   "id": "bef904d9",
   "metadata": {},
   "outputs": [],
   "source": [
    "from sklearn.compose import TransformedTargetRegressor\n",
    "\n",
    "model = TransformedTargetRegressor(LinearRegression(),\n",
    "                                   transformer=StandardScaler())\n",
    "\n",
    "model.fit(cars[[\"enginesize\"]], cars_labels)\n",
    "predictions = model.predict(some_new_data)"
   ]
  },
  {
   "cell_type": "code",
   "execution_count": null,
   "id": "93c85628",
   "metadata": {},
   "outputs": [],
   "source": [
    "predictions"
   ]
  },
  {
   "cell_type": "markdown",
   "id": "64b92170",
   "metadata": {},
   "source": [
    "### Custom Transformers"
   ]
  },
  {
   "cell_type": "code",
   "execution_count": null,
   "id": "0b79fabb",
   "metadata": {},
   "outputs": [],
   "source": [
    "from sklearn.metrics.pairwise import rbf_kernel"
   ]
  },
  {
   "cell_type": "code",
   "execution_count": null,
   "id": "0bd0313b",
   "metadata": {},
   "outputs": [],
   "source": [
    "from sklearn.preprocessing import FunctionTransformer\n",
    "\n",
    "log_transformer = FunctionTransformer(np.log, inverse_func=np.exp)\n",
    "log_pop = log_transformer.transform(cars[[\"enginesize\"]])"
   ]
  },
  {
   "cell_type": "code",
   "execution_count": null,
   "id": "e6f60694",
   "metadata": {},
   "outputs": [],
   "source": [
    "rbf_transformer = FunctionTransformer(rbf_kernel,\n",
    "                                      kw_args=dict(Y=[[90.]], gamma=0.01))\n",
    "\n",
    "size_simil_90 = rbf_transformer.transform(cars[[\"enginesize\"]])"
   ]
  },
  {
   "cell_type": "code",
   "execution_count": null,
   "id": "fc6be30c",
   "metadata": {},
   "outputs": [],
   "source": [
    "from ml_custom_blocks import StandardScalerClone, ClusterSimilarity"
   ]
  },
  {
   "cell_type": "code",
   "execution_count": null,
   "id": "7823bb24",
   "metadata": {},
   "outputs": [],
   "source": [
    "cars"
   ]
  },
  {
   "cell_type": "code",
   "execution_count": null,
   "id": "d263f85c",
   "metadata": {},
   "outputs": [],
   "source": [
    "# cluster_sim = ClusterSimilarity(n_clusters=10, gamma=1., random_state=42)\n",
    "# similarities = cluster_sim.fit_transform(cars[[\"enginesize\", \"horsepower\"]],\n",
    "#                                          sample_weight=cars_labels)"
   ]
  },
  {
   "cell_type": "code",
   "execution_count": null,
   "id": "6de1ac51",
   "metadata": {},
   "outputs": [],
   "source": [
    "# similarities[:3].round()\n",
    "# cars[\"Max cluster similarity\"] = similarities.max(axis=1)\n"
   ]
  },
  {
   "cell_type": "code",
   "execution_count": null,
   "id": "84b77269",
   "metadata": {},
   "outputs": [],
   "source": [
    "# import matplotlib.pyplot as plt\n",
    "\n",
    "# plt.figure(figsize=(10, 7))\n",
    "\n",
    "# scatter = plt.scatter(\n",
    "#     x=cars[\"enginesize\"],\n",
    "#     y=cars[\"horsepower\"],\n",
    "#     s=cars[\"curbweight\"] / 10,\n",
    "#     c=cars[\"Max cluster similarity\"],  # <- Now directly passing the Series\n",
    "#     cmap=\"jet\",\n",
    "#     alpha=0.6\n",
    "# )\n",
    "\n",
    "# # Plot cluster centers\n",
    "# plt.scatter(\n",
    "#     cluster_sim.kmeans_.cluster_centers_[:, 0],\n",
    "#     cluster_sim.kmeans_.cluster_centers_[:, 1],\n",
    "#     color='black', marker='X', s=200, label='Cluster centers'\n",
    "# )\n",
    "\n",
    "# plt.xlabel(\"Engine Size\")\n",
    "# plt.ylabel(\"Horsepower\")\n",
    "# plt.colorbar(scatter, label=\"Max Cluster Similarity\")\n",
    "# plt.legend(loc=\"upper right\")\n",
    "# plt.title(\"Car Cluster Visualization\")\n",
    "# plt.grid(True)\n",
    "# plt.tight_layout()\n",
    "# plt.show()\n"
   ]
  },
  {
   "cell_type": "markdown",
   "id": "e9584f2a",
   "metadata": {},
   "source": [
    "### Transformation Pipelines"
   ]
  },
  {
   "cell_type": "code",
   "execution_count": null,
   "id": "664c58cd",
   "metadata": {},
   "outputs": [],
   "source": [
    "from sklearn.pipeline import Pipeline\n",
    "\n",
    "num_pipeline = Pipeline([\n",
    "    (\"impute\", SimpleImputer(strategy=\"median\")),\n",
    "    (\"standardize\", StandardScaler()),\n",
    "])"
   ]
  },
  {
   "cell_type": "code",
   "execution_count": null,
   "id": "5863d672",
   "metadata": {},
   "outputs": [],
   "source": [
    "from sklearn.pipeline import make_pipeline\n",
    "\n",
    "num_pipeline = make_pipeline(SimpleImputer(strategy=\"median\"), StandardScaler())"
   ]
  },
  {
   "cell_type": "code",
   "execution_count": null,
   "id": "bb28b9c0",
   "metadata": {},
   "outputs": [],
   "source": [
    "from sklearn import set_config\n",
    "\n",
    "set_config(display='diagram')\n",
    "\n",
    "num_pipeline"
   ]
  },
  {
   "cell_type": "code",
   "execution_count": null,
   "id": "b4c69c2e",
   "metadata": {},
   "outputs": [],
   "source": [
    "cars_num_prepared = num_pipeline.fit_transform(cars_num)\n",
    "cars_num_prepared[:2].round(2)"
   ]
  },
  {
   "cell_type": "code",
   "execution_count": null,
   "id": "7ec840a4",
   "metadata": {},
   "outputs": [],
   "source": [
    "# dumpii = pd.DataFrame(cars_num_prepared, index=cars_num.index, columns=cars_num.columns)"
   ]
  },
  {
   "cell_type": "code",
   "execution_count": null,
   "id": "0ccfabae",
   "metadata": {},
   "outputs": [],
   "source": [
    "# dumpii[null_rows_idx]"
   ]
  },
  {
   "cell_type": "code",
   "execution_count": null,
   "id": "4ba29eb3",
   "metadata": {},
   "outputs": [],
   "source": [
    "df_cars_num_prepared = pd.DataFrame(cars_num_prepared, columns=num_pipeline.get_feature_names_out(), index=cars_num.index)"
   ]
  },
  {
   "cell_type": "code",
   "execution_count": null,
   "id": "7d4c0d8c",
   "metadata": {},
   "outputs": [],
   "source": [
    "df_cars_num_prepared.head(2)"
   ]
  },
  {
   "cell_type": "code",
   "execution_count": null,
   "id": "4a2b37e4",
   "metadata": {},
   "outputs": [],
   "source": [
    "num_pipeline.steps"
   ]
  },
  {
   "cell_type": "code",
   "execution_count": null,
   "id": "086cc676",
   "metadata": {},
   "outputs": [],
   "source": [
    "num_pipeline[1]"
   ]
  },
  {
   "cell_type": "code",
   "execution_count": null,
   "id": "95751a1f",
   "metadata": {},
   "outputs": [],
   "source": [
    "num_pipeline[:-1]"
   ]
  },
  {
   "cell_type": "code",
   "execution_count": null,
   "id": "aecd76ed",
   "metadata": {},
   "outputs": [],
   "source": [
    "num_pipeline.named_steps[\"simpleimputer\"]"
   ]
  },
  {
   "cell_type": "code",
   "execution_count": null,
   "id": "eb27c5e1",
   "metadata": {},
   "outputs": [],
   "source": [
    "num_pipeline.set_params(simpleimputer__strategy=\"median\")"
   ]
  },
  {
   "cell_type": "code",
   "execution_count": null,
   "id": "389bdc57",
   "metadata": {},
   "outputs": [],
   "source": [
    "cars_cat.columns"
   ]
  },
  {
   "cell_type": "code",
   "execution_count": null,
   "id": "0924824f",
   "metadata": {},
   "outputs": [],
   "source": [
    "from sklearn.compose import ColumnTransformer\n",
    "\n",
    "num_attribs = ['car_ID', 'symboling', 'wheelbase', 'carlength', 'carwidth',\n",
    "                'carheight', 'curbweight', 'enginesize', 'boreratio', 'stroke',\n",
    "                'compressionratio', 'horsepower', 'peakrpm', 'citympg', 'highwaympg']\n",
    "\n",
    "cat_attribs = ['CarName', 'fueltype', 'aspiration', 'doornumber', 'carbody',\n",
    "                'drivewheel', 'enginelocation', 'enginetype', 'cylindernumber',\n",
    "                'fuelsystem']\n",
    "\n",
    "cat_pipeline = make_pipeline(\n",
    "    SimpleImputer(strategy=\"most_frequent\"),\n",
    "    OneHotEncoder(handle_unknown=\"ignore\")\n",
    ")\n",
    "\n",
    "preprocessing = ColumnTransformer([\n",
    "    [\"num\", num_pipeline, num_attribs],\n",
    "    [\"cat\", cat_pipeline, cat_attribs],\n",
    "])"
   ]
  },
  {
   "cell_type": "code",
   "execution_count": null,
   "id": "0b3c3037",
   "metadata": {},
   "outputs": [],
   "source": [
    "from sklearn.compose import make_column_selector, make_column_transformer\n",
    "\n",
    "preprocessing = make_column_transformer(\n",
    "    (num_pipeline, make_column_selector(dtype_include=np.number)),\n",
    "    (cat_pipeline, make_column_selector(dtype_include=object))\n",
    ")"
   ]
  },
  {
   "cell_type": "code",
   "execution_count": null,
   "id": "268a65ab",
   "metadata": {},
   "outputs": [],
   "source": [
    "cars_prepared = preprocessing.fit_transform(cars)"
   ]
  },
  {
   "cell_type": "code",
   "execution_count": null,
   "id": "0bbaaa8c",
   "metadata": {},
   "outputs": [],
   "source": [
    "cars_prepared.shape"
   ]
  },
  {
   "cell_type": "code",
   "execution_count": null,
   "id": "e28d55a6",
   "metadata": {},
   "outputs": [],
   "source": [
    "df_cars_prepared = pd.DataFrame(cars_prepared.toarray(), index=cars.index, columns=preprocessing.get_feature_names_out())"
   ]
  },
  {
   "cell_type": "code",
   "execution_count": null,
   "id": "cf1eac3a",
   "metadata": {},
   "outputs": [],
   "source": [
    "cars_num"
   ]
  },
  {
   "cell_type": "code",
   "execution_count": null,
   "id": "7f8a4df2",
   "metadata": {},
   "outputs": [],
   "source": [
    "def column_ratio(X):\n",
    "    return X[:, [0]] / X[:, [1]]\n",
    "\n",
    "\n",
    "def ratio_name(function_transformer, feature_names_in):\n",
    "    return [\"ratio\"]\n",
    "\n",
    "\n",
    "def ratio_pipeline():\n",
    "    return make_pipeline(\n",
    "        SimpleImputer(strategy=\"median\"),\n",
    "        FunctionTransformer(column_ratio, feature_names_out=ratio_name),\n",
    "        StandardScaler(),\n",
    "    )\n",
    "\n",
    "\n",
    "log_pipeline = make_pipeline(\n",
    "    SimpleImputer(strategy=\"median\"),\n",
    "    FunctionTransformer(np.log, feature_names_out=\"one-to-one\"),\n",
    "    StandardScaler(),\n",
    ")\n",
    "cluster_simil = ClusterSimilarity(n_clusters=10, gamma=1.0, random_state=42)\n",
    "default_num_pipeline = make_pipeline(SimpleImputer(strategy=\"median\"), StandardScaler())\n",
    "preprocessing = ColumnTransformer(\n",
    "    [\n",
    "        (\"weight_per_engine\", ratio_pipeline(), [\"curbweight\", \"enginesize\"]),\n",
    "        (\"height_to_width\", ratio_pipeline(), [\"carheight\", \"carwidth\"]),\n",
    "        (\n",
    "            \"log\",\n",
    "            log_pipeline,\n",
    "            [\n",
    "                \"curbweight\",\n",
    "                \"peakrpm\",\n",
    "                \"wheelbase\",\n",
    "                \"carlength\",\n",
    "                \"carwidth\",\n",
    "                \"carheight\",\n",
    "                \"enginesize\",\n",
    "                \"highwaympg\",\n",
    "            ],\n",
    "        ),\n",
    "        (\"cat\", cat_pipeline, make_column_selector(dtype_include=object)),\n",
    "    ],\n",
    "    remainder=default_num_pipeline\n",
    ")"
   ]
  },
  {
   "cell_type": "code",
   "execution_count": null,
   "id": "2e571c65",
   "metadata": {},
   "outputs": [],
   "source": [
    "cars_prepared = preprocessing.fit_transform(cars)\n",
    "cars_prepared.shape"
   ]
  },
  {
   "cell_type": "code",
   "execution_count": null,
   "id": "a81e064e",
   "metadata": {},
   "outputs": [],
   "source": [
    "preprocessing.get_feature_names_out()"
   ]
  },
  {
   "cell_type": "markdown",
   "id": "7b5cd904",
   "metadata": {},
   "source": [
    "## Train Model"
   ]
  },
  {
   "cell_type": "code",
   "execution_count": null,
   "id": "befed394",
   "metadata": {},
   "outputs": [],
   "source": [
    "from sklearn.linear_model import LinearRegression\n",
    "\n",
    "lin_reg = make_pipeline(preprocessing, LinearRegression())\n",
    "lin_reg.fit(cars, cars_labels)"
   ]
  },
  {
   "cell_type": "code",
   "execution_count": null,
   "id": "5733984a",
   "metadata": {},
   "outputs": [],
   "source": [
    "cars_predictions = lin_reg.predict(cars)"
   ]
  },
  {
   "cell_type": "code",
   "execution_count": null,
   "id": "ff4da40f",
   "metadata": {},
   "outputs": [],
   "source": [
    "from sklearn.metrics import root_mean_squared_error\n",
    "\n",
    "lin_rmse = root_mean_squared_error(cars_labels, cars_predictions)\n",
    "lin_rmse"
   ]
  },
  {
   "cell_type": "code",
   "execution_count": null,
   "id": "75e0ef99",
   "metadata": {},
   "outputs": [],
   "source": [
    "from sklearn.tree import DecisionTreeRegressor\n",
    "\n",
    "tree_reg = make_pipeline(preprocessing, DecisionTreeRegressor(random_state=42))\n",
    "tree_reg.fit(cars, cars_labels)"
   ]
  },
  {
   "cell_type": "code",
   "execution_count": null,
   "id": "29d75d95",
   "metadata": {},
   "outputs": [],
   "source": [
    "tree_pred = tree_reg.predict(cars)\n",
    "tree_rmse = root_mean_squared_error(cars_labels, tree_pred)\n",
    "tree_rmse"
   ]
  },
  {
   "cell_type": "markdown",
   "id": "cf8e40be",
   "metadata": {},
   "source": [
    "## Cross Validation"
   ]
  },
  {
   "cell_type": "code",
   "execution_count": null,
   "id": "4ea09a01",
   "metadata": {},
   "outputs": [],
   "source": [
    "from sklearn.model_selection import cross_val_score\n",
    "\n",
    "tree_rmses = -cross_val_score(tree_reg, cars, cars_labels,\n",
    "                              scoring=\"neg_root_mean_squared_error\", cv=10)"
   ]
  },
  {
   "cell_type": "code",
   "execution_count": null,
   "id": "6ae44c83",
   "metadata": {},
   "outputs": [],
   "source": [
    "pd.Series(tree_rmses).describe()"
   ]
  },
  {
   "cell_type": "code",
   "execution_count": null,
   "id": "416dbf06",
   "metadata": {},
   "outputs": [],
   "source": [
    "lin_rmses = -cross_val_score(lin_reg, cars, cars_labels,\n",
    "                              scoring=\"neg_root_mean_squared_error\", cv=10)\n",
    "pd.Series(lin_rmses).describe()"
   ]
  },
  {
   "cell_type": "code",
   "execution_count": null,
   "id": "db0e2711",
   "metadata": {},
   "outputs": [],
   "source": [
    "from sklearn.ensemble import RandomForestRegressor\n",
    "\n",
    "forest_reg = make_pipeline(preprocessing, RandomForestRegressor(random_state=42))\n",
    "\n",
    "forest_rmses = -cross_val_score(forest_reg, cars, cars_labels, scoring=\"neg_root_mean_squared_error\", cv=10)"
   ]
  },
  {
   "cell_type": "code",
   "execution_count": null,
   "id": "ab100dfe",
   "metadata": {},
   "outputs": [],
   "source": [
    "pd.Series(forest_rmses).describe()"
   ]
  },
  {
   "cell_type": "code",
   "execution_count": null,
   "id": "a5426d90",
   "metadata": {},
   "outputs": [],
   "source": [
    "forest_reg.fit(cars, cars_labels)\n",
    "cars_predictions = forest_reg.predict(cars)\n",
    "forest_rmse = root_mean_squared_error(cars_labels, cars_predictions)\n",
    "forest_rmse"
   ]
  },
  {
   "cell_type": "markdown",
   "id": "4d1a2c36",
   "metadata": {},
   "source": [
    "# Fine Tuning \n",
    "## Grid Search"
   ]
  },
  {
   "cell_type": "code",
   "execution_count": null,
   "id": "bd169e67",
   "metadata": {},
   "outputs": [],
   "source": [
    "from sklearn.model_selection import GridSearchCV\n",
    "from sklearn.linear_model import Ridge\n",
    "\n",
    "full_pipeline = Pipeline([\n",
    "    ('preprocessing', preprocessing),\n",
    "    ('ridge_reg', Ridge())\n",
    "])\n",
    "param_grid = {'ridge_reg__alpha': [0.01, 0.1, 1.0, 10.0, 100.0]}\n",
    "grid_search = GridSearchCV(full_pipeline, param_grid, cv=3, scoring=\"neg_root_mean_squared_error\")\n",
    "\n",
    "grid_search.fit(cars, cars_labels)"
   ]
  },
  {
   "cell_type": "code",
   "execution_count": null,
   "id": "4a9fa43b",
   "metadata": {},
   "outputs": [],
   "source": [
    "print(str(full_pipeline.get_params().keys())[:1000] + \"...\")"
   ]
  },
  {
   "cell_type": "code",
   "execution_count": null,
   "id": "6b246819",
   "metadata": {},
   "outputs": [],
   "source": [
    "grid_search.best_params_"
   ]
  },
  {
   "cell_type": "code",
   "execution_count": null,
   "id": "92db35f0",
   "metadata": {},
   "outputs": [],
   "source": [
    "grid_search.best_estimator_"
   ]
  },
  {
   "cell_type": "code",
   "execution_count": null,
   "id": "20c00de9",
   "metadata": {},
   "outputs": [],
   "source": [
    "cv_res = pd.DataFrame(grid_search.cv_results_)\n",
    "cv_res.sort_values(by=\"mean_test_score\", ascending=False, inplace=True)\n",
    "\n",
    "cv_res = cv_res[[\"param_ridge_reg__alpha\", \"split0_test_score\",\n",
    "                 \"split1_test_score\", \"split2_test_score\", \"mean_test_score\"]]\n",
    "score_cols = [\"split0\", \"split1\", \"split2\", \"mean_test_rmse\"]\n",
    "cv_res.columns = [\"max_features\"] + score_cols\n",
    "cv_res[score_cols] = -cv_res[score_cols].round().astype(np.int64)\n",
    "\n",
    "cv_res.head()"
   ]
  },
  {
   "cell_type": "markdown",
   "id": "2efa34af",
   "metadata": {},
   "source": [
    "## Randomized Search"
   ]
  },
  {
   "cell_type": "code",
   "execution_count": null,
   "id": "73b61681",
   "metadata": {},
   "outputs": [],
   "source": [
    "from sklearn.experimental import enable_halving_search_cv\n",
    "from sklearn.model_selection import HalvingRandomSearchCV"
   ]
  },
  {
   "cell_type": "code",
   "execution_count": null,
   "id": "a4a8a8ad",
   "metadata": {},
   "outputs": [],
   "source": [
    "from sklearn.model_selection import RandomizedSearchCV\n",
    "\n",
    "from scipy.stats import reciprocal\n",
    "\n",
    "param_distribs = {\n",
    "    'ridge_reg__alpha': reciprocal(0.01, 100)\n",
    "}\n",
    "\n",
    "\n",
    "rnd_search = RandomizedSearchCV(\n",
    "    full_pipeline, param_distributions=param_distribs, n_iter=10, cv=3,\n",
    "    scoring='neg_root_mean_squared_error', random_state=42) \n",
    "\n",
    "rnd_search.fit(cars, cars_labels)"
   ]
  },
  {
   "cell_type": "code",
   "execution_count": null,
   "id": "808511a7",
   "metadata": {},
   "outputs": [],
   "source": [
    "# extra code – displays the random search results\n",
    "cv_res = pd.DataFrame(rnd_search.cv_results_)\n",
    "cv_res.sort_values(by=\"mean_test_score\", ascending=False, inplace=True)\n",
    "cv_res = cv_res[[\"param_ridge_reg__alpha\", \"split0_test_score\",\n",
    "                 \"split1_test_score\", \"split2_test_score\", \"mean_test_score\"]]\n",
    "cv_res.columns = [\"max_features\"] + score_cols\n",
    "cv_res[score_cols] = -cv_res[score_cols].round().astype(np.int64)\n",
    "cv_res.head()"
   ]
  },
  {
   "cell_type": "markdown",
   "id": "2980e43c",
   "metadata": {},
   "source": [
    "## Evaluate"
   ]
  },
  {
   "cell_type": "code",
   "execution_count": null,
   "id": "1a779067",
   "metadata": {},
   "outputs": [],
   "source": [
    "X_test = strat_test_set.drop(\"price\", axis=1)\n",
    "y_test = strat_test_set[\"price\"].copy()\n",
    "\n",
    "final_model = rnd_search.best_estimator_\n",
    "\n",
    "final_predictions = final_model.predict(X_test)\n",
    "\n",
    "final_rmse = root_mean_squared_error(y_test, final_predictions)\n",
    "print(final_rmse)"
   ]
  },
  {
   "cell_type": "code",
   "execution_count": null,
   "id": "f79c8862",
   "metadata": {},
   "outputs": [],
   "source": [
    "y_test"
   ]
  },
  {
   "cell_type": "code",
   "execution_count": null,
   "id": "8a8c894f",
   "metadata": {},
   "outputs": [],
   "source": [
    "from sklearn.metrics import mean_squared_error\n",
    "import numpy as np\n",
    "\n",
    "\n",
    "# best_ridge = grid_search.best_estimator_\n",
    "\n",
    "y_pred = final_model.predict(X_test) \n",
    "\n",
    "rmse = np.sqrt(mean_squared_error(y_test, y_pred))\n",
    "print(\"Best Ridge RMSE:\", rmse)\n"
   ]
  },
  {
   "cell_type": "code",
   "execution_count": null,
   "id": "4f8756d9",
   "metadata": {},
   "outputs": [],
   "source": [
    "from scipy import stats\n",
    "\n",
    "def rmse(squared_errors):\n",
    "    return np.sqrt(np.mean(squared_errors))\n",
    "\n",
    "confidence = 0.95\n",
    "squared_errors = (y_pred - y_test) ** 2\n",
    "boot_result = stats.bootstrap([squared_errors], rmse,\n",
    "                              confidence_level=confidence, random_state=42)\n",
    "rmse_lower, rmse_upper = boot_result.confidence_interval\n"
   ]
  },
  {
   "cell_type": "code",
   "execution_count": null,
   "id": "ae0b3591",
   "metadata": {},
   "outputs": [],
   "source": [
    "rmse_lower, rmse_upper"
   ]
  },
  {
   "cell_type": "code",
   "execution_count": null,
   "id": "69b4de16",
   "metadata": {},
   "outputs": [],
   "source": [
    "import joblib\n",
    "\n",
    "joblib.dump(final_model, \"my_car_price_model.pkl\")"
   ]
  },
  {
   "cell_type": "code",
   "execution_count": null,
   "id": "0dd57700",
   "metadata": {},
   "outputs": [],
   "source": [
    "import joblib\n",
    "\n",
    "final_model_reloaded = joblib.load(\"my_car_price_model.pkl\")\n",
    "\n",
    "new_data = cars.iloc[:5]\n",
    "predictions = final_model_reloaded.predict(new_data)"
   ]
  },
  {
   "cell_type": "code",
   "execution_count": null,
   "id": "080940e2",
   "metadata": {},
   "outputs": [],
   "source": [
    "predictions"
   ]
  },
  {
   "cell_type": "code",
   "execution_count": null,
   "id": "a59b84ab",
   "metadata": {},
   "outputs": [],
   "source": [
    "cars_labels[:5]"
   ]
  },
  {
   "cell_type": "code",
   "execution_count": null,
   "id": "d9058be4",
   "metadata": {},
   "outputs": [],
   "source": []
  }
 ],
 "metadata": {
  "kernelspec": {
   "display_name": "ml-engine",
   "language": "python",
   "name": "python3"
  },
  "language_info": {
   "codemirror_mode": {
    "name": "ipython",
    "version": 3
   },
   "file_extension": ".py",
   "mimetype": "text/x-python",
   "name": "python",
   "nbconvert_exporter": "python",
   "pygments_lexer": "ipython3",
   "version": "3.11.11"
  }
 },
 "nbformat": 4,
 "nbformat_minor": 5
}
